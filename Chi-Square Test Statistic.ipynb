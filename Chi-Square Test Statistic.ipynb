{
 "cells": [
  {
   "cell_type": "code",
   "execution_count": 1,
   "metadata": {},
   "outputs": [],
   "source": [
    "import numpy as np\n",
    "import pandas as pd\n",
    "import scipy"
   ]
  },
  {
   "cell_type": "code",
   "execution_count": 31,
   "metadata": {},
   "outputs": [
    {
     "data": {
      "text/html": [
       "<div>\n",
       "<style scoped>\n",
       "    .dataframe tbody tr th:only-of-type {\n",
       "        vertical-align: middle;\n",
       "    }\n",
       "\n",
       "    .dataframe tbody tr th {\n",
       "        vertical-align: top;\n",
       "    }\n",
       "\n",
       "    .dataframe thead th {\n",
       "        text-align: right;\n",
       "    }\n",
       "</style>\n",
       "<table border=\"1\" class=\"dataframe\">\n",
       "  <thead>\n",
       "    <tr style=\"text-align: right;\">\n",
       "      <th></th>\n",
       "      <th>White</th>\n",
       "      <th>Black</th>\n",
       "      <th>Hispanic</th>\n",
       "      <th>Other</th>\n",
       "    </tr>\n",
       "  </thead>\n",
       "  <tbody>\n",
       "    <tr>\n",
       "      <td>Observed data</td>\n",
       "      <td>205</td>\n",
       "      <td>26.00</td>\n",
       "      <td>25</td>\n",
       "      <td>19.00</td>\n",
       "    </tr>\n",
       "    <tr>\n",
       "      <td>Expected counts</td>\n",
       "      <td>198</td>\n",
       "      <td>19.25</td>\n",
       "      <td>33</td>\n",
       "      <td>24.75</td>\n",
       "    </tr>\n",
       "  </tbody>\n",
       "</table>\n",
       "</div>"
      ],
      "text/plain": [
       "                 White  Black  Hispanic  Other\n",
       "Observed data      205  26.00        25  19.00\n",
       "Expected counts    198  19.25        33  24.75"
      ]
     },
     "metadata": {},
     "output_type": "display_data"
    }
   ],
   "source": [
    "data = {'Observed data':[205, 26, 25, 19],\n",
    "        'Expected counts':[198, 19.25, 33, 24.75]\n",
    "       }\n",
    "table = pd.DataFrame.from_dict(data, orient='index', \n",
    "             columns=['White','Black','Hispanic','Other'])\n",
    "display(table)"
   ]
  },
  {
   "cell_type": "code",
   "execution_count": 52,
   "metadata": {},
   "outputs": [
    {
     "name": "stdout",
     "output_type": "stream",
     "text": [
      "==Chi-Square test statistic==\n",
      "5.8896103896103895\n",
      "==P-value==\n",
      "0.11710619130850619\n"
     ]
    }
   ],
   "source": [
    "from scipy.stats import chi2\n",
    "import matplotlib.pyplot as plt\n",
    "\n",
    "def chi_sq_test(obs, exp, df):\n",
    "    # Check for sample size condition\n",
    "    error = \"Dataset failed sample size condition, one or more elements less than 5\"\n",
    "    assert np.sum([e >= 5 for e in exp]) == len(exp), error\n",
    "    # Calculate chi-square test statistic\n",
    "    X = np.sum([(x[0] - x[1])**2/x[1] for x in zip(obs, exp)])\n",
    "    p_val = 1 - chi2.cdf(X, df=df)\n",
    "    return X, p_val\n",
    "\n",
    "X2, p_val = chi_sq_test(data['Observed data'],data['Expected counts'], 3)\n",
    "print(f\"==Chi-Square test statistic==\\n{X2}\")\n",
    "print(f\"==P-value==\\n{p_val}\")"
   ]
  }
 ],
 "metadata": {
  "kernelspec": {
   "display_name": "Python 3",
   "language": "python",
   "name": "python3"
  },
  "language_info": {
   "codemirror_mode": {
    "name": "ipython",
    "version": 3
   },
   "file_extension": ".py",
   "mimetype": "text/x-python",
   "name": "python",
   "nbconvert_exporter": "python",
   "pygments_lexer": "ipython3",
   "version": "3.6.9"
  }
 },
 "nbformat": 4,
 "nbformat_minor": 2
}
