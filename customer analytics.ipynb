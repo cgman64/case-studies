{
 "cells": [
  {
   "cell_type": "code",
   "execution_count": 33,
   "metadata": {},
   "outputs": [
    {
     "data": {
      "text/html": [
       "<div>\n",
       "<style scoped>\n",
       "    .dataframe tbody tr th:only-of-type {\n",
       "        vertical-align: middle;\n",
       "    }\n",
       "\n",
       "    .dataframe tbody tr th {\n",
       "        vertical-align: top;\n",
       "    }\n",
       "\n",
       "    .dataframe thead th {\n",
       "        text-align: right;\n",
       "    }\n",
       "</style>\n",
       "<table border=\"1\" class=\"dataframe\">\n",
       "  <thead>\n",
       "    <tr style=\"text-align: right;\">\n",
       "      <th></th>\n",
       "      <th>uid</th>\n",
       "      <th>reg_date</th>\n",
       "      <th>device</th>\n",
       "      <th>gender</th>\n",
       "      <th>country</th>\n",
       "      <th>age</th>\n",
       "    </tr>\n",
       "  </thead>\n",
       "  <tbody>\n",
       "    <tr>\n",
       "      <td>0</td>\n",
       "      <td>54030035</td>\n",
       "      <td>2017-06-29</td>\n",
       "      <td>and</td>\n",
       "      <td>M</td>\n",
       "      <td>USA</td>\n",
       "      <td>19</td>\n",
       "    </tr>\n",
       "    <tr>\n",
       "      <td>1</td>\n",
       "      <td>72574201</td>\n",
       "      <td>2018-03-05</td>\n",
       "      <td>iOS</td>\n",
       "      <td>F</td>\n",
       "      <td>TUR</td>\n",
       "      <td>22</td>\n",
       "    </tr>\n",
       "    <tr>\n",
       "      <td>2</td>\n",
       "      <td>64187558</td>\n",
       "      <td>2016-02-07</td>\n",
       "      <td>iOS</td>\n",
       "      <td>M</td>\n",
       "      <td>USA</td>\n",
       "      <td>16</td>\n",
       "    </tr>\n",
       "    <tr>\n",
       "      <td>3</td>\n",
       "      <td>92513925</td>\n",
       "      <td>2017-05-25</td>\n",
       "      <td>and</td>\n",
       "      <td>M</td>\n",
       "      <td>BRA</td>\n",
       "      <td>41</td>\n",
       "    </tr>\n",
       "    <tr>\n",
       "      <td>4</td>\n",
       "      <td>99231338</td>\n",
       "      <td>2017-03-26</td>\n",
       "      <td>iOS</td>\n",
       "      <td>M</td>\n",
       "      <td>FRA</td>\n",
       "      <td>59</td>\n",
       "    </tr>\n",
       "  </tbody>\n",
       "</table>\n",
       "</div>"
      ],
      "text/plain": [
       "        uid    reg_date device gender country  age\n",
       "0  54030035  2017-06-29    and      M     USA   19\n",
       "1  72574201  2018-03-05    iOS      F     TUR   22\n",
       "2  64187558  2016-02-07    iOS      M     USA   16\n",
       "3  92513925  2017-05-25    and      M     BRA   41\n",
       "4  99231338  2017-03-26    iOS      M     FRA   59"
      ]
     },
     "metadata": {},
     "output_type": "display_data"
    },
    {
     "data": {
      "text/html": [
       "<div>\n",
       "<style scoped>\n",
       "    .dataframe tbody tr th:only-of-type {\n",
       "        vertical-align: middle;\n",
       "    }\n",
       "\n",
       "    .dataframe tbody tr th {\n",
       "        vertical-align: top;\n",
       "    }\n",
       "\n",
       "    .dataframe thead th {\n",
       "        text-align: right;\n",
       "    }\n",
       "</style>\n",
       "<table border=\"1\" class=\"dataframe\">\n",
       "  <thead>\n",
       "    <tr style=\"text-align: right;\">\n",
       "      <th></th>\n",
       "      <th>date</th>\n",
       "      <th>uid</th>\n",
       "      <th>sku</th>\n",
       "      <th>price</th>\n",
       "    </tr>\n",
       "  </thead>\n",
       "  <tbody>\n",
       "    <tr>\n",
       "      <td>0</td>\n",
       "      <td>2017-07-10</td>\n",
       "      <td>41195147</td>\n",
       "      <td>sku_three_499</td>\n",
       "      <td>499</td>\n",
       "    </tr>\n",
       "    <tr>\n",
       "      <td>1</td>\n",
       "      <td>2017-07-15</td>\n",
       "      <td>41195147</td>\n",
       "      <td>sku_three_499</td>\n",
       "      <td>499</td>\n",
       "    </tr>\n",
       "    <tr>\n",
       "      <td>2</td>\n",
       "      <td>2017-11-12</td>\n",
       "      <td>41195147</td>\n",
       "      <td>sku_four_599</td>\n",
       "      <td>599</td>\n",
       "    </tr>\n",
       "    <tr>\n",
       "      <td>3</td>\n",
       "      <td>2017-09-26</td>\n",
       "      <td>91591874</td>\n",
       "      <td>sku_two_299</td>\n",
       "      <td>299</td>\n",
       "    </tr>\n",
       "    <tr>\n",
       "      <td>4</td>\n",
       "      <td>2017-12-01</td>\n",
       "      <td>91591874</td>\n",
       "      <td>sku_four_599</td>\n",
       "      <td>599</td>\n",
       "    </tr>\n",
       "  </tbody>\n",
       "</table>\n",
       "</div>"
      ],
      "text/plain": [
       "        date       uid            sku  price\n",
       "0 2017-07-10  41195147  sku_three_499    499\n",
       "1 2017-07-15  41195147  sku_three_499    499\n",
       "2 2017-11-12  41195147   sku_four_599    599\n",
       "3 2017-09-26  91591874    sku_two_299    299\n",
       "4 2017-12-01  91591874   sku_four_599    599"
      ]
     },
     "metadata": {},
     "output_type": "display_data"
    },
    {
     "data": {
      "text/html": [
       "<div>\n",
       "<style scoped>\n",
       "    .dataframe tbody tr th:only-of-type {\n",
       "        vertical-align: middle;\n",
       "    }\n",
       "\n",
       "    .dataframe tbody tr th {\n",
       "        vertical-align: top;\n",
       "    }\n",
       "\n",
       "    .dataframe thead th {\n",
       "        text-align: right;\n",
       "    }\n",
       "</style>\n",
       "<table border=\"1\" class=\"dataframe\">\n",
       "  <thead>\n",
       "    <tr style=\"text-align: right;\">\n",
       "      <th></th>\n",
       "      <th>index</th>\n",
       "      <th>gender</th>\n",
       "      <th>device</th>\n",
       "      <th>revenue</th>\n",
       "      <th>date</th>\n",
       "      <th>country</th>\n",
       "    </tr>\n",
       "  </thead>\n",
       "  <tbody>\n",
       "    <tr>\n",
       "      <td>0</td>\n",
       "      <td>1</td>\n",
       "      <td>male</td>\n",
       "      <td>ios</td>\n",
       "      <td>186557.0</td>\n",
       "      <td>2013-09-20</td>\n",
       "      <td>USA</td>\n",
       "    </tr>\n",
       "    <tr>\n",
       "      <td>1</td>\n",
       "      <td>2</td>\n",
       "      <td>male</td>\n",
       "      <td>ios</td>\n",
       "      <td>177217.0</td>\n",
       "      <td>2013-09-21</td>\n",
       "      <td>USA</td>\n",
       "    </tr>\n",
       "    <tr>\n",
       "      <td>2</td>\n",
       "      <td>3</td>\n",
       "      <td>male</td>\n",
       "      <td>ios</td>\n",
       "      <td>177197.0</td>\n",
       "      <td>2013-09-22</td>\n",
       "      <td>USA</td>\n",
       "    </tr>\n",
       "    <tr>\n",
       "      <td>3</td>\n",
       "      <td>4</td>\n",
       "      <td>male</td>\n",
       "      <td>ios</td>\n",
       "      <td>157193.0</td>\n",
       "      <td>2013-09-23</td>\n",
       "      <td>USA</td>\n",
       "    </tr>\n",
       "    <tr>\n",
       "      <td>4</td>\n",
       "      <td>5</td>\n",
       "      <td>male</td>\n",
       "      <td>ios</td>\n",
       "      <td>165592.0</td>\n",
       "      <td>2013-09-24</td>\n",
       "      <td>USA</td>\n",
       "    </tr>\n",
       "  </tbody>\n",
       "</table>\n",
       "</div>"
      ],
      "text/plain": [
       "   index gender device   revenue        date country\n",
       "0      1   male    ios  186557.0  2013-09-20     USA\n",
       "1      2   male    ios  177217.0  2013-09-21     USA\n",
       "2      3   male    ios  177197.0  2013-09-22     USA\n",
       "3      4   male    ios  157193.0  2013-09-23     USA\n",
       "4      5   male    ios  165592.0  2013-09-24     USA"
      ]
     },
     "metadata": {},
     "output_type": "display_data"
    }
   ],
   "source": [
    "import pandas as pd\n",
    "import numpy as np\n",
    "\n",
    "from datetime import timedelta\n",
    "\n",
    "URL = {'customer':'https://assets.datacamp.com/production/repositories/1646/datasets/c3a701a4729471ae0b92d8c300b470fd2ec0a73a/user_demographics_v1.csv',\n",
    "       'purchase':'https://assets.datacamp.com/production/repositories/1646/datasets/5decd183ef3710475958bbc903160fd6354379d5/purchase_data_v1.csv',\n",
    "       'revenue':'https://assets.datacamp.com/production/repositories/1646/datasets/3afb49cad9fb91c02b71b52a2ddc0071ea13764c/daily_revenue.csv'\n",
    "      }\n",
    "customer=pd.read_csv(URL['customer'])\n",
    "purchase=pd.read_csv(URL['purchase'])\n",
    "revenue=pd.read_csv(URL['revenue'])\n",
    "\n",
    "### clean customer data\n",
    "# convert uid to integer type\n",
    "customer.uid = customer.uid.astype('int')\n",
    "# truncate reg_date column to date\n",
    "customer.reg_date = pd.to_datetime(customer.reg_date).dt.date\n",
    "\n",
    "### clean purchase data\n",
    "# convert date column to datetime\n",
    "purchase.date = pd.to_datetime(purchase.date)\n",
    "\n",
    "### clean revenue data\n",
    "#convert date to datetime and truncate to date\n",
    "revenue.date = pd.to_datetime(revenue.date).dt.date\n",
    "\n",
    "display(customer.head())\n",
    "display(purchase.head())\n",
    "display(revenue.head())"
   ]
  },
  {
   "cell_type": "code",
   "execution_count": 34,
   "metadata": {},
   "outputs": [
    {
     "name": "stdout",
     "output_type": "stream",
     "text": [
      "             price        age\n",
      "mean    406.772596  23.922274\n",
      "median  299.000000  21.000000\n",
      "                    price                   \n",
      "                     mean median         std\n",
      "device gender                               \n",
      "and    F       400.747504    299  179.984378\n",
      "       M       416.237308    499  195.001520\n",
      "iOS    F       404.435330    299  181.524952\n",
      "       M       405.272401    299  196.843197\n"
     ]
    }
   ],
   "source": [
    "# Combine purchase and customer data\n",
    "df=purchase.merge(customer, on=['uid'], how='inner')\n",
    "# Summary statistics for price and age\n",
    "purchase_summary = df.agg({'price':['mean','median'],\n",
    "                            'age':['mean','median']})\n",
    "print(purchase_summary)\n",
    "# Summary statistics for price by device and gender\n",
    "grouped_data = df.groupby(by=['device','gender'])\n",
    "purchase_summary = grouped_data.agg({'price':['mean','median','std']})\n",
    "print(purchase_summary)"
   ]
  },
  {
   "cell_type": "markdown",
   "metadata": {},
   "source": [
    "## Calculating KPI\n",
    "\n",
    "A KPI of interest would be average amount paid per purchase in a user's first month. This KPI can provide a sense of the popularity of different in-app purchase price points to users within their first month."
   ]
  },
  {
   "cell_type": "code",
   "execution_count": 49,
   "metadata": {},
   "outputs": [
    {
     "name": "stdout",
     "output_type": "stream",
     "text": [
      "Mean price paid per purchase: 414.4237288135593\n"
     ]
    }
   ],
   "source": [
    "# Most current date\n",
    "last_date = max(df.reg_date)\n",
    "# Compute max_purchase_date\n",
    "max_purchase_date = last_date - timedelta(days=28)\n",
    "#print(\"max purchase date:\", max_purchase_date)\n",
    "# Filter out users who registered in the last 28 days.\n",
    "df_filt = df[df.reg_date < max_purchase_date]\n",
    "# Filter to contain only purchases within the first 28 days of registration\n",
    "df_filt = df_filt[df_filt.date <= (df_filt.reg_date + timedelta(days=28))]\n",
    "# Mean price paid per purchase\n",
    "print(\"Mean price paid per purchase:\", df_filt.price.mean())"
   ]
  },
  {
   "cell_type": "markdown",
   "metadata": {},
   "source": [
    "Users paid an average of **414** cents in their first 28 days of registeration."
   ]
  },
  {
   "cell_type": "markdown",
   "metadata": {},
   "source": [
    "### Average purchase price by cohort"
   ]
  },
  {
   "cell_type": "code",
   "execution_count": 51,
   "metadata": {},
   "outputs": [
    {
     "name": "stdout",
     "output_type": "stream",
     "text": [
      "  gender device      month1              price       \n",
      "                       mean median        mean median\n",
      "0      F    and  388.204545  299.0  400.747504    299\n",
      "1      F    iOS  432.587786  499.0  404.435330    299\n",
      "2      M    and  413.705882  399.0  416.237308    499\n",
      "3      M    iOS  433.313725  499.0  405.272401    299\n"
     ]
    }
   ],
   "source": [
    "max_reg_date = max(df.reg_date) - timedelta(days=28)\n",
    "# Month 1 values\n",
    "month1 = np.where((df.reg_date < max_reg_date) & \\\n",
    "                  (df.date < df.reg_date + timedelta(days=28)),\n",
    "                 df.price, np.NaN)\n",
    "df['month1'] = month1\n",
    "df_grouped = df.groupby(by=['gender','device'], as_index=False)\n",
    "summary = df_grouped.agg({'month1':['mean','median'],\n",
    "                'price':['mean','median']})\n",
    "print(summary)"
   ]
  },
  {
   "cell_type": "markdown",
   "metadata": {},
   "source": [
    "Female android users tend to spend less in their first month, while female iOS users tend to spend more than in their first month.\n",
    "Male android users tend to spend sligtly less than average in their first month, and male iOS users tend to spend significantly more in their first month."
   ]
  },
  {
   "cell_type": "code",
   "execution_count": null,
   "metadata": {},
   "outputs": [],
   "source": []
  }
 ],
 "metadata": {
  "kernelspec": {
   "display_name": "Python 3",
   "language": "python",
   "name": "python3"
  },
  "language_info": {
   "codemirror_mode": {
    "name": "ipython",
    "version": 3
   },
   "file_extension": ".py",
   "mimetype": "text/x-python",
   "name": "python",
   "nbconvert_exporter": "python",
   "pygments_lexer": "ipython3",
   "version": "3.6.9"
  }
 },
 "nbformat": 4,
 "nbformat_minor": 2
}
