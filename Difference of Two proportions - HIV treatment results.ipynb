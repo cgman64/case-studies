{
 "cells": [
  {
   "cell_type": "code",
   "execution_count": 34,
   "metadata": {},
   "outputs": [],
   "source": [
    "import numpy as np\n",
    "import pandas as pd\n",
    "import scipy\n",
    "from scipy.stats import norm\n",
    "import matplotlib.pyplot as plt"
   ]
  },
  {
   "cell_type": "markdown",
   "metadata": {},
   "source": [
    "## Ex. 6.29 HIV in sub-saharan Africa"
   ]
  },
  {
   "cell_type": "code",
   "execution_count": null,
   "metadata": {},
   "outputs": [],
   "source": [
    "# Treatment: single dose of Nevaripine\n",
    "# 240 women in study, 120 randomized to each of two treatments.\n",
    "# 26 women with treatment experienced virologic failure, \n",
    "# while 10 of the 120 women treated with the other drug experienced virologic failure"
   ]
  },
  {
   "cell_type": "markdown",
   "metadata": {},
   "source": [
    "(a) Create a two-way table presenting the results of this study"
   ]
  },
  {
   "cell_type": "code",
   "execution_count": 4,
   "metadata": {},
   "outputs": [
    {
     "data": {
      "text/html": [
       "<div>\n",
       "<style scoped>\n",
       "    .dataframe tbody tr th:only-of-type {\n",
       "        vertical-align: middle;\n",
       "    }\n",
       "\n",
       "    .dataframe tbody tr th {\n",
       "        vertical-align: top;\n",
       "    }\n",
       "\n",
       "    .dataframe thead th {\n",
       "        text-align: right;\n",
       "    }\n",
       "</style>\n",
       "<table border=\"1\" class=\"dataframe\">\n",
       "  <thead>\n",
       "    <tr style=\"text-align: right;\">\n",
       "      <th></th>\n",
       "      <th>failure</th>\n",
       "      <th>stable</th>\n",
       "    </tr>\n",
       "  </thead>\n",
       "  <tbody>\n",
       "    <tr>\n",
       "      <td>nevaripine</td>\n",
       "      <td>26</td>\n",
       "      <td>94</td>\n",
       "    </tr>\n",
       "    <tr>\n",
       "      <td>other drug</td>\n",
       "      <td>10</td>\n",
       "      <td>110</td>\n",
       "    </tr>\n",
       "  </tbody>\n",
       "</table>\n",
       "</div>"
      ],
      "text/plain": [
       "            failure  stable\n",
       "nevaripine       26      94\n",
       "other drug       10     110"
      ]
     },
     "execution_count": 4,
     "metadata": {},
     "output_type": "execute_result"
    }
   ],
   "source": [
    "groups = {'nevaripine':[26, 94],\n",
    "          'other drug':[10,110]}\n",
    "table = pd.DataFrame.from_dict(groups, orient='index',columns=['failure','stable'])\n",
    "table"
   ]
  },
  {
   "cell_type": "markdown",
   "metadata": {},
   "source": [
    "(b) State the appropriate hypotheses to test for difference in virologic failure rates between treatment groups.\n",
    "\n",
    "$H_0: \\hat{p}_{nevaripine} - \\hat{p}_{other} = 0 \\\\ \n",
    "H_a: \\hat{p}_{nevaripine} - \\hat{p}_{other} \\neq 0$"
   ]
  },
  {
   "cell_type": "markdown",
   "metadata": {},
   "source": [
    "(c) Complete the hypothesis test and state an appropriate conclusion.\n",
    "\n",
    "1. Experiment passes the independence condition\n",
    "2. Experiment also passes the success-failure condition"
   ]
  },
  {
   "cell_type": "code",
   "execution_count": 75,
   "metadata": {},
   "outputs": [
    {
     "name": "stdout",
     "output_type": "stream",
     "text": [
      "p-value: 0.0038\n",
      "Reject the null hypothesis\n"
     ]
    }
   ],
   "source": [
    "alpha = .01\n",
    "confidence = 1 - alpha\n",
    "nfail_nev = groups['nevaripine'][0]\n",
    "nfail_other = groups['other drug'][0]\n",
    "n_nev = np.sum(groups['nevaripine'])\n",
    "n_other = np.sum(groups['other drug'])\n",
    "\n",
    "p1 = nfail_nev / n_nev\n",
    "p2 = nfail_other / n_other\n",
    "# Calculate the difference between proportions / point estimate\n",
    "p_diff = p1 - p2\n",
    "# Calculate the pooled proportion\n",
    "p_pool = (nfail_nev + nfail_other) / (n_nev + n_other)\n",
    "# Calculate the standard error\n",
    "standard_error = np.sqrt((p_pool * (1 - p_pool) / n_nev) + (p_pool * (1 - p_pool) / n_other))\n",
    "# Compute the z-score\n",
    "zscore = (p_diff - 0) / standard_error\n",
    "# Compute the p value\n",
    "p_value = scipy.stats.norm.sf(abs(zscore))*2 # inverse of cdf (1 - cdf)\n",
    "# Compare p value with alpha\n",
    "print(f\"p-value: {round(p_value,4)}\")\n",
    "if p_value < alpha:\n",
    "    print(\"Reject the null hypothesis\")\n",
    "else:\n",
    "    print(\"Fail to reject the null hypothesis\")"
   ]
  },
  {
   "cell_type": "markdown",
   "metadata": {},
   "source": [
    "**Conclusion**\n",
    "\n",
    "Based on the results we reject the null hypothesis, that there is no statistically significant difference between the two drug treatments and virologic failure rates. If nevaripine treatment is more expensive I would immediately stop the treatment."
   ]
  }
 ],
 "metadata": {
  "kernelspec": {
   "display_name": "Python 3",
   "language": "python",
   "name": "python3"
  },
  "language_info": {
   "codemirror_mode": {
    "name": "ipython",
    "version": 3
   },
   "file_extension": ".py",
   "mimetype": "text/x-python",
   "name": "python",
   "nbconvert_exporter": "python",
   "pygments_lexer": "ipython3",
   "version": "3.6.9"
  }
 },
 "nbformat": 4,
 "nbformat_minor": 2
}
